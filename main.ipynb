{
 "cells": [
  {
   "cell_type": "code",
   "execution_count": 2,
   "outputs": [
    {
     "data": {
      "text/plain": "' \\nnvda = yf.download(\"NVDA\", start=\"2015-01-01\", end=\"2020-01-01\")\\nnvda.to_csv(\"nvda_2015_2020.csv\")\\nticker = yf.Ticker(\\'NVDA\\')\\nticker.get_earnings_dates(limit=100).to_csv(\\'nvda_earnings_dates\\')\\n'"
     },
     "execution_count": 2,
     "metadata": {},
     "output_type": "execute_result"
    }
   ],
   "source": [
    "import yfinance as yf\n",
    "import pandas as pd\n",
    "from datetime import datetime\n",
    "\n",
    "start_date = datetime(2015, 1, 1, 1, 1)\n",
    "end_date = datetime(2020, 1, 1, 1, 1)\n",
    "''' \n",
    "nvda = yf.download(\"NVDA\", start=\"2015-01-01\", end=\"2020-01-01\")\n",
    "nvda.to_csv(\"nvda_2015_2020.csv\")\n",
    "ticker = yf.Ticker('NVDA')\n",
    "ticker.get_earnings_dates(limit=100).to_csv('nvda_earnings_dates')\n",
    "'''"
   ],
   "metadata": {
    "collapsed": false,
    "ExecuteTime": {
     "end_time": "2025-05-31T06:39:40.231919Z",
     "start_time": "2025-05-31T06:39:39.801334Z"
    }
   },
   "id": "87d7e2e37526dc79"
  },
  {
   "cell_type": "code",
   "execution_count": 3,
   "outputs": [
    {
     "data": {
      "text/plain": "               Close      High       Low      Open       Volume\nDate                                                           \n2015-01-02  0.483099  0.486699  0.475419  0.483099  113680000.0\n2015-01-05  0.474939  0.484539  0.472780  0.483099  197952000.0\n2015-01-06  0.460540  0.476139  0.460060  0.475659  197764000.0\n2015-01-07  0.459340  0.467980  0.457900  0.463900  321808000.0\n2015-01-08  0.476619  0.479499  0.464380  0.464620  283780000.0\n...              ...       ...       ...       ...          ...\n2019-12-24  5.940049  5.957226  5.895241  5.929594  138864000.0\n2019-12-26  5.954238  5.982368  5.924615  5.943534  182852000.0\n2019-12-27  5.896485  5.982865  5.870098  5.969422  254644000.0\n2019-12-30  5.783221  5.879807  5.751855  5.874579  258056000.0\n2019-12-31  5.857404  5.866863  5.728705  5.747873  231004000.0\n\n[1258 rows x 5 columns]",
      "text/html": "<div>\n<style scoped>\n    .dataframe tbody tr th:only-of-type {\n        vertical-align: middle;\n    }\n\n    .dataframe tbody tr th {\n        vertical-align: top;\n    }\n\n    .dataframe thead th {\n        text-align: right;\n    }\n</style>\n<table border=\"1\" class=\"dataframe\">\n  <thead>\n    <tr style=\"text-align: right;\">\n      <th></th>\n      <th>Close</th>\n      <th>High</th>\n      <th>Low</th>\n      <th>Open</th>\n      <th>Volume</th>\n    </tr>\n    <tr>\n      <th>Date</th>\n      <th></th>\n      <th></th>\n      <th></th>\n      <th></th>\n      <th></th>\n    </tr>\n  </thead>\n  <tbody>\n    <tr>\n      <th>2015-01-02</th>\n      <td>0.483099</td>\n      <td>0.486699</td>\n      <td>0.475419</td>\n      <td>0.483099</td>\n      <td>113680000.0</td>\n    </tr>\n    <tr>\n      <th>2015-01-05</th>\n      <td>0.474939</td>\n      <td>0.484539</td>\n      <td>0.472780</td>\n      <td>0.483099</td>\n      <td>197952000.0</td>\n    </tr>\n    <tr>\n      <th>2015-01-06</th>\n      <td>0.460540</td>\n      <td>0.476139</td>\n      <td>0.460060</td>\n      <td>0.475659</td>\n      <td>197764000.0</td>\n    </tr>\n    <tr>\n      <th>2015-01-07</th>\n      <td>0.459340</td>\n      <td>0.467980</td>\n      <td>0.457900</td>\n      <td>0.463900</td>\n      <td>321808000.0</td>\n    </tr>\n    <tr>\n      <th>2015-01-08</th>\n      <td>0.476619</td>\n      <td>0.479499</td>\n      <td>0.464380</td>\n      <td>0.464620</td>\n      <td>283780000.0</td>\n    </tr>\n    <tr>\n      <th>...</th>\n      <td>...</td>\n      <td>...</td>\n      <td>...</td>\n      <td>...</td>\n      <td>...</td>\n    </tr>\n    <tr>\n      <th>2019-12-24</th>\n      <td>5.940049</td>\n      <td>5.957226</td>\n      <td>5.895241</td>\n      <td>5.929594</td>\n      <td>138864000.0</td>\n    </tr>\n    <tr>\n      <th>2019-12-26</th>\n      <td>5.954238</td>\n      <td>5.982368</td>\n      <td>5.924615</td>\n      <td>5.943534</td>\n      <td>182852000.0</td>\n    </tr>\n    <tr>\n      <th>2019-12-27</th>\n      <td>5.896485</td>\n      <td>5.982865</td>\n      <td>5.870098</td>\n      <td>5.969422</td>\n      <td>254644000.0</td>\n    </tr>\n    <tr>\n      <th>2019-12-30</th>\n      <td>5.783221</td>\n      <td>5.879807</td>\n      <td>5.751855</td>\n      <td>5.874579</td>\n      <td>258056000.0</td>\n    </tr>\n    <tr>\n      <th>2019-12-31</th>\n      <td>5.857404</td>\n      <td>5.866863</td>\n      <td>5.728705</td>\n      <td>5.747873</td>\n      <td>231004000.0</td>\n    </tr>\n  </tbody>\n</table>\n<p>1258 rows × 5 columns</p>\n</div>"
     },
     "execution_count": 3,
     "metadata": {},
     "output_type": "execute_result"
    }
   ],
   "source": [
    "prices = pd.read_csv('nvda_2015_2020.csv').iloc[2:,:].rename(columns={'Price': 'Date'})\n",
    "prices['Date'] = pd.to_datetime(prices['Date'])\n",
    "prices = prices.set_index('Date')\n",
    "prices = prices.astype(float)\n",
    "prices"
   ],
   "metadata": {
    "collapsed": false,
    "ExecuteTime": {
     "end_time": "2025-05-31T06:39:40.246476Z",
     "start_time": "2025-05-31T06:39:40.229678Z"
    }
   },
   "id": "403e4f290d7a3cfd"
  },
  {
   "cell_type": "code",
   "execution_count": 4,
   "outputs": [
    {
     "data": {
      "text/plain": "               EPS Estimate  Reported EPS  Surprise(%)\nEarnings Date                                         \n2019-11-14             0.39          0.45        13.07\n2019-08-15             0.29          0.31         8.29\n2019-05-16             0.20          0.22         8.69\n2019-02-14             0.19          0.20         6.48\n2018-11-15             0.47          0.46        -1.32\n2018-08-16             0.44          0.49         9.80\n2018-05-10             0.40          0.51        28.67\n2018-02-08             0.29          0.39        34.37\n2017-11-09             0.24          0.33        40.83\n2017-08-10             0.17          0.23        31.84\n2017-05-09             0.16          0.20        19.86\n2017-02-09             0.21          0.25        19.62\n2016-11-10             0.14          0.21        47.27\n2016-08-11             0.09          0.10         7.04\n2016-05-12             0.08          0.08         3.85\n2016-02-17             0.08          0.09        10.04\n2015-11-05             0.06          0.11        75.13\n2015-08-06             0.03          0.04        67.92\n2015-05-07             0.06          0.06        -7.32",
      "text/html": "<div>\n<style scoped>\n    .dataframe tbody tr th:only-of-type {\n        vertical-align: middle;\n    }\n\n    .dataframe tbody tr th {\n        vertical-align: top;\n    }\n\n    .dataframe thead th {\n        text-align: right;\n    }\n</style>\n<table border=\"1\" class=\"dataframe\">\n  <thead>\n    <tr style=\"text-align: right;\">\n      <th></th>\n      <th>EPS Estimate</th>\n      <th>Reported EPS</th>\n      <th>Surprise(%)</th>\n    </tr>\n    <tr>\n      <th>Earnings Date</th>\n      <th></th>\n      <th></th>\n      <th></th>\n    </tr>\n  </thead>\n  <tbody>\n    <tr>\n      <th>2019-11-14</th>\n      <td>0.39</td>\n      <td>0.45</td>\n      <td>13.07</td>\n    </tr>\n    <tr>\n      <th>2019-08-15</th>\n      <td>0.29</td>\n      <td>0.31</td>\n      <td>8.29</td>\n    </tr>\n    <tr>\n      <th>2019-05-16</th>\n      <td>0.20</td>\n      <td>0.22</td>\n      <td>8.69</td>\n    </tr>\n    <tr>\n      <th>2019-02-14</th>\n      <td>0.19</td>\n      <td>0.20</td>\n      <td>6.48</td>\n    </tr>\n    <tr>\n      <th>2018-11-15</th>\n      <td>0.47</td>\n      <td>0.46</td>\n      <td>-1.32</td>\n    </tr>\n    <tr>\n      <th>2018-08-16</th>\n      <td>0.44</td>\n      <td>0.49</td>\n      <td>9.80</td>\n    </tr>\n    <tr>\n      <th>2018-05-10</th>\n      <td>0.40</td>\n      <td>0.51</td>\n      <td>28.67</td>\n    </tr>\n    <tr>\n      <th>2018-02-08</th>\n      <td>0.29</td>\n      <td>0.39</td>\n      <td>34.37</td>\n    </tr>\n    <tr>\n      <th>2017-11-09</th>\n      <td>0.24</td>\n      <td>0.33</td>\n      <td>40.83</td>\n    </tr>\n    <tr>\n      <th>2017-08-10</th>\n      <td>0.17</td>\n      <td>0.23</td>\n      <td>31.84</td>\n    </tr>\n    <tr>\n      <th>2017-05-09</th>\n      <td>0.16</td>\n      <td>0.20</td>\n      <td>19.86</td>\n    </tr>\n    <tr>\n      <th>2017-02-09</th>\n      <td>0.21</td>\n      <td>0.25</td>\n      <td>19.62</td>\n    </tr>\n    <tr>\n      <th>2016-11-10</th>\n      <td>0.14</td>\n      <td>0.21</td>\n      <td>47.27</td>\n    </tr>\n    <tr>\n      <th>2016-08-11</th>\n      <td>0.09</td>\n      <td>0.10</td>\n      <td>7.04</td>\n    </tr>\n    <tr>\n      <th>2016-05-12</th>\n      <td>0.08</td>\n      <td>0.08</td>\n      <td>3.85</td>\n    </tr>\n    <tr>\n      <th>2016-02-17</th>\n      <td>0.08</td>\n      <td>0.09</td>\n      <td>10.04</td>\n    </tr>\n    <tr>\n      <th>2015-11-05</th>\n      <td>0.06</td>\n      <td>0.11</td>\n      <td>75.13</td>\n    </tr>\n    <tr>\n      <th>2015-08-06</th>\n      <td>0.03</td>\n      <td>0.04</td>\n      <td>67.92</td>\n    </tr>\n    <tr>\n      <th>2015-05-07</th>\n      <td>0.06</td>\n      <td>0.06</td>\n      <td>-7.32</td>\n    </tr>\n  </tbody>\n</table>\n</div>"
     },
     "execution_count": 4,
     "metadata": {},
     "output_type": "execute_result"
    }
   ],
   "source": [
    "earnings = pd.read_csv('nvda_earnings_dates')\n",
    "# fix formatting with dates, remove time zone and hours/mins\n",
    "earnings['Earnings Date'] = pd.to_datetime(earnings['Earnings Date'], utc=True)\n",
    "earnings['Earnings Date'] = earnings['Earnings Date'].dt.tz_localize(None)\n",
    "earnings['Earnings Date'] = pd.to_datetime(earnings['Earnings Date'].dt.date)\n",
    "# filter earnings dates to start and end date\n",
    "earnings = earnings[(start_date <= earnings['Earnings Date']) & (earnings['Earnings Date'] <= end_date)]\n",
    "# remove the first earnings date (not enough stock price data)\n",
    "earnings = earnings.drop(earnings.index[-1])\n",
    "earnings = earnings.set_index('Earnings Date')\n",
    "earnings"
   ],
   "metadata": {
    "collapsed": false,
    "ExecuteTime": {
     "end_time": "2025-05-31T06:39:40.638125Z",
     "start_time": "2025-05-31T06:39:40.624660Z"
    }
   },
   "id": "dcd0c91ed88a6987"
  },
  {
   "cell_type": "code",
   "execution_count": 25,
   "outputs": [
    {
     "data": {
      "text/plain": "            avg volume 60  avg volume 7        60        59        58  \\\n2019-11-14   3.230485e+08  2.666354e+08 -0.184610 -0.183419 -0.226468   \n2019-08-15   3.988891e+08  3.479977e+08  0.041092  0.021889 -0.010876   \n2019-05-16   5.043915e+08  5.554640e+08 -0.011257 -0.028593 -0.007266   \n2019-02-14   7.629827e+08  5.764606e+08  0.308404  0.063001 -0.064548   \n2018-11-15   4.711557e+08  4.994034e+08  0.297872  0.317724  0.344292   \n2018-08-16   3.570693e+08  3.447817e+08 -0.057839 -0.038456 -0.037873   \n2018-05-10   5.850401e+08  4.509760e+08 -0.106272 -0.072502 -0.052986   \n2018-02-08   5.700372e+08  7.671474e+08 -0.007035 -0.023160 -0.016039   \n2017-11-09   5.720610e+08  4.215806e+08 -0.196353 -0.214261 -0.214115   \n2017-08-10   8.841012e+08  5.635537e+08 -0.170414 -0.225534 -0.193092   \n2017-05-09   6.025876e+08  3.466160e+08  0.102359  0.051519  0.055400   \n2017-02-09   7.290717e+08  5.016166e+08 -0.245244 -0.282394 -0.260516   \n2016-11-10   3.625757e+08  3.973589e+08 -0.099343 -0.085351 -0.082994   \n2016-08-11   3.705988e+08  3.257177e+08 -0.293627 -0.275583 -0.272409   \n2016-05-12   3.372652e+08  3.015857e+08 -0.225201 -0.158534 -0.147329   \n2016-02-17   3.340695e+08  4.481091e+08  0.121837  0.125090  0.134852   \n2015-11-05   3.493507e+08  2.946789e+08 -0.147578 -0.154765 -0.154047   \n2015-08-06   2.915845e+08  2.473383e+08  0.013889  0.019730  0.036279   \n2015-05-07   2.832539e+08  2.450834e+08 -0.072048 -0.078249 -0.012252   \n\n                  57        56        55        54        53  ...         7  \\\n2019-11-14 -0.212134 -0.229515 -0.231517 -0.203966 -0.201535  ... -0.000858   \n2019-08-15 -0.025445 -0.037665 -0.057740 -0.064932 -0.089467  ...  0.024064   \n2019-05-16 -0.010384 -0.020300 -0.030839 -0.037019 -0.023348  ...  0.080654   \n2019-02-14 -0.036232 -0.064484 -0.062609 -0.010567 -0.006171  ... -0.029638   \n2018-11-15  0.362464  0.354958  0.376007  0.372647  0.386828  ...  0.042838   \n2018-08-16 -0.031697 -0.034377 -0.017285 -0.020393  0.000699  ... -0.001903   \n2018-05-10 -0.063205 -0.043074 -0.072156 -0.069120 -0.054588  ... -0.126821   \n2018-02-08 -0.035334 -0.027846 -0.028994 -0.016498 -0.007448  ...  0.115851   \n2017-11-09 -0.225550 -0.208309 -0.192480 -0.195451 -0.202172  ...  0.007257   \n2017-08-10 -0.174457 -0.156854 -0.168205 -0.158857 -0.160739  ... -0.001518   \n2017-05-09  0.057535  0.040556  0.040362  0.077619  0.075967  ...  0.013212   \n2017-02-09 -0.213842 -0.207322 -0.198999 -0.202260 -0.196512  ... -0.061867   \n2016-11-10 -0.079165 -0.071713 -0.086026 -0.092076 -0.084698  ...  0.018888   \n2016-08-11 -0.259377 -0.258208 -0.240201 -0.243383 -0.235343  ... -0.061306   \n2016-05-12 -0.117077 -0.114836 -0.108673 -0.106712 -0.112595  ...  0.000000   \n2016-02-17  0.117860  0.126898  0.125452  0.134852  0.146782  ... -0.044468   \n2015-11-05 -0.159437 -0.167088 -0.170336 -0.200289 -0.225189  ...  0.026344   \n2015-08-06  0.036766  0.035306  0.028850  0.028850  0.021516  ... -0.035208   \n2015-05-07 -0.011809 -0.008708 -0.020225 -0.017567 -0.010480  ... -0.008004   \n\n                   6         5         4         3         2         1    0  \\\n2019-11-14 -0.010296 -0.006912 -0.009581 -0.007674 -0.000858 -0.005815  0.0   \n2019-08-15  0.034415  0.063790  0.036365  0.018014  0.048935  0.008738  0.0   \n2019-05-16  0.085710  0.062426  0.053873 -0.010862  0.011548 -0.003808  0.0   \n2019-02-14 -0.009901 -0.046010 -0.041157 -0.052288 -0.021743 -0.010677  0.0   \n2018-11-15  0.056327  0.017787  0.016206 -0.063491 -0.015218 -0.025693  0.0   \n2018-08-16  0.003807 -0.003807 -0.010294 -0.005127  0.015499  0.006370  0.0   \n2018-05-10 -0.130012 -0.104332 -0.080998 -0.044017 -0.037404 -0.016722  0.0   \n2018-02-08  0.130011  0.105645  0.073556 -0.017562  0.037054  0.051857  0.0   \n2017-11-09  0.009156  0.003019  0.016414  0.020992  0.032681  0.018703  0.0   \n2017-08-10 -0.002125  0.010562  0.014993  0.046194  0.033749  0.044737  0.0   \n2017-05-09  0.035943  0.005246  0.012727  0.008840  0.008938 -0.001651  0.0   \n2017-02-09 -0.020880 -0.008507 -0.017185  0.007991  0.023629  0.019161  0.0   \n2016-11-10  0.014609  0.002803 -0.002951  0.051646  0.050022  0.032315  0.0   \n2016-08-11 -0.058794 -0.041373 -0.025126 -0.016080 -0.013568 -0.019933  0.0   \n2016-05-12 -0.022772 -0.016868 -0.006747 -0.008153  0.010964  0.013776  0.0   \n2016-02-17 -0.088214 -0.078452 -0.080622 -0.085322 -0.069776 -0.024222  0.0   \n2015-11-05  0.034645 -0.001083  0.023818  0.035727  0.028510  0.011548  0.0   \n2015-08-06 -0.023472 -0.021027 -0.024450 -0.007824 -0.003912  0.006357  0.0   \n2015-05-07 -0.015562 -0.012894  0.011561  0.005335 -0.020453 -0.017341  0.0   \n\n                  -1  MONEY  \n2019-11-14 -0.026693  False  \n2019-08-15  0.072528   True  \n2019-05-16 -0.022848  False  \n2019-02-14  0.018184   True  \n2018-11-15 -0.187559  False  \n2018-08-16 -0.049021  False  \n2018-05-10 -0.021528  False  \n2018-02-08  0.066936   True  \n2017-11-09  0.052698   True  \n2017-08-10 -0.053296  False  \n2017-05-09  0.178259   True  \n2017-02-09 -0.023716  False  \n2016-11-10  0.298067   True  \n2016-08-11  0.055946   True  \n2016-05-12  0.152095   True  \n2016-02-17  0.086045   True  \n2015-11-05  0.138578   True  \n2015-08-06  0.123717   True  \n2015-05-07 -0.073810  False  \n\n[19 rows x 65 columns]",
      "text/html": "<div>\n<style scoped>\n    .dataframe tbody tr th:only-of-type {\n        vertical-align: middle;\n    }\n\n    .dataframe tbody tr th {\n        vertical-align: top;\n    }\n\n    .dataframe thead th {\n        text-align: right;\n    }\n</style>\n<table border=\"1\" class=\"dataframe\">\n  <thead>\n    <tr style=\"text-align: right;\">\n      <th></th>\n      <th>avg volume 60</th>\n      <th>avg volume 7</th>\n      <th>60</th>\n      <th>59</th>\n      <th>58</th>\n      <th>57</th>\n      <th>56</th>\n      <th>55</th>\n      <th>54</th>\n      <th>53</th>\n      <th>...</th>\n      <th>7</th>\n      <th>6</th>\n      <th>5</th>\n      <th>4</th>\n      <th>3</th>\n      <th>2</th>\n      <th>1</th>\n      <th>0</th>\n      <th>-1</th>\n      <th>MONEY</th>\n    </tr>\n  </thead>\n  <tbody>\n    <tr>\n      <th>2019-11-14</th>\n      <td>3.230485e+08</td>\n      <td>2.666354e+08</td>\n      <td>-0.184610</td>\n      <td>-0.183419</td>\n      <td>-0.226468</td>\n      <td>-0.212134</td>\n      <td>-0.229515</td>\n      <td>-0.231517</td>\n      <td>-0.203966</td>\n      <td>-0.201535</td>\n      <td>...</td>\n      <td>-0.000858</td>\n      <td>-0.010296</td>\n      <td>-0.006912</td>\n      <td>-0.009581</td>\n      <td>-0.007674</td>\n      <td>-0.000858</td>\n      <td>-0.005815</td>\n      <td>0.0</td>\n      <td>-0.026693</td>\n      <td>False</td>\n    </tr>\n    <tr>\n      <th>2019-08-15</th>\n      <td>3.988891e+08</td>\n      <td>3.479977e+08</td>\n      <td>0.041092</td>\n      <td>0.021889</td>\n      <td>-0.010876</td>\n      <td>-0.025445</td>\n      <td>-0.037665</td>\n      <td>-0.057740</td>\n      <td>-0.064932</td>\n      <td>-0.089467</td>\n      <td>...</td>\n      <td>0.024064</td>\n      <td>0.034415</td>\n      <td>0.063790</td>\n      <td>0.036365</td>\n      <td>0.018014</td>\n      <td>0.048935</td>\n      <td>0.008738</td>\n      <td>0.0</td>\n      <td>0.072528</td>\n      <td>True</td>\n    </tr>\n    <tr>\n      <th>2019-05-16</th>\n      <td>5.043915e+08</td>\n      <td>5.554640e+08</td>\n      <td>-0.011257</td>\n      <td>-0.028593</td>\n      <td>-0.007266</td>\n      <td>-0.010384</td>\n      <td>-0.020300</td>\n      <td>-0.030839</td>\n      <td>-0.037019</td>\n      <td>-0.023348</td>\n      <td>...</td>\n      <td>0.080654</td>\n      <td>0.085710</td>\n      <td>0.062426</td>\n      <td>0.053873</td>\n      <td>-0.010862</td>\n      <td>0.011548</td>\n      <td>-0.003808</td>\n      <td>0.0</td>\n      <td>-0.022848</td>\n      <td>False</td>\n    </tr>\n    <tr>\n      <th>2019-02-14</th>\n      <td>7.629827e+08</td>\n      <td>5.764606e+08</td>\n      <td>0.308404</td>\n      <td>0.063001</td>\n      <td>-0.064548</td>\n      <td>-0.036232</td>\n      <td>-0.064484</td>\n      <td>-0.062609</td>\n      <td>-0.010567</td>\n      <td>-0.006171</td>\n      <td>...</td>\n      <td>-0.029638</td>\n      <td>-0.009901</td>\n      <td>-0.046010</td>\n      <td>-0.041157</td>\n      <td>-0.052288</td>\n      <td>-0.021743</td>\n      <td>-0.010677</td>\n      <td>0.0</td>\n      <td>0.018184</td>\n      <td>True</td>\n    </tr>\n    <tr>\n      <th>2018-11-15</th>\n      <td>4.711557e+08</td>\n      <td>4.994034e+08</td>\n      <td>0.297872</td>\n      <td>0.317724</td>\n      <td>0.344292</td>\n      <td>0.362464</td>\n      <td>0.354958</td>\n      <td>0.376007</td>\n      <td>0.372647</td>\n      <td>0.386828</td>\n      <td>...</td>\n      <td>0.042838</td>\n      <td>0.056327</td>\n      <td>0.017787</td>\n      <td>0.016206</td>\n      <td>-0.063491</td>\n      <td>-0.015218</td>\n      <td>-0.025693</td>\n      <td>0.0</td>\n      <td>-0.187559</td>\n      <td>False</td>\n    </tr>\n    <tr>\n      <th>2018-08-16</th>\n      <td>3.570693e+08</td>\n      <td>3.447817e+08</td>\n      <td>-0.057839</td>\n      <td>-0.038456</td>\n      <td>-0.037873</td>\n      <td>-0.031697</td>\n      <td>-0.034377</td>\n      <td>-0.017285</td>\n      <td>-0.020393</td>\n      <td>0.000699</td>\n      <td>...</td>\n      <td>-0.001903</td>\n      <td>0.003807</td>\n      <td>-0.003807</td>\n      <td>-0.010294</td>\n      <td>-0.005127</td>\n      <td>0.015499</td>\n      <td>0.006370</td>\n      <td>0.0</td>\n      <td>-0.049021</td>\n      <td>False</td>\n    </tr>\n    <tr>\n      <th>2018-05-10</th>\n      <td>5.850401e+08</td>\n      <td>4.509760e+08</td>\n      <td>-0.106272</td>\n      <td>-0.072502</td>\n      <td>-0.052986</td>\n      <td>-0.063205</td>\n      <td>-0.043074</td>\n      <td>-0.072156</td>\n      <td>-0.069120</td>\n      <td>-0.054588</td>\n      <td>...</td>\n      <td>-0.126821</td>\n      <td>-0.130012</td>\n      <td>-0.104332</td>\n      <td>-0.080998</td>\n      <td>-0.044017</td>\n      <td>-0.037404</td>\n      <td>-0.016722</td>\n      <td>0.0</td>\n      <td>-0.021528</td>\n      <td>False</td>\n    </tr>\n    <tr>\n      <th>2018-02-08</th>\n      <td>5.700372e+08</td>\n      <td>7.671474e+08</td>\n      <td>-0.007035</td>\n      <td>-0.023160</td>\n      <td>-0.016039</td>\n      <td>-0.035334</td>\n      <td>-0.027846</td>\n      <td>-0.028994</td>\n      <td>-0.016498</td>\n      <td>-0.007448</td>\n      <td>...</td>\n      <td>0.115851</td>\n      <td>0.130011</td>\n      <td>0.105645</td>\n      <td>0.073556</td>\n      <td>-0.017562</td>\n      <td>0.037054</td>\n      <td>0.051857</td>\n      <td>0.0</td>\n      <td>0.066936</td>\n      <td>True</td>\n    </tr>\n    <tr>\n      <th>2017-11-09</th>\n      <td>5.720610e+08</td>\n      <td>4.215806e+08</td>\n      <td>-0.196353</td>\n      <td>-0.214261</td>\n      <td>-0.214115</td>\n      <td>-0.225550</td>\n      <td>-0.208309</td>\n      <td>-0.192480</td>\n      <td>-0.195451</td>\n      <td>-0.202172</td>\n      <td>...</td>\n      <td>0.007257</td>\n      <td>0.009156</td>\n      <td>0.003019</td>\n      <td>0.016414</td>\n      <td>0.020992</td>\n      <td>0.032681</td>\n      <td>0.018703</td>\n      <td>0.0</td>\n      <td>0.052698</td>\n      <td>True</td>\n    </tr>\n    <tr>\n      <th>2017-08-10</th>\n      <td>8.841012e+08</td>\n      <td>5.635537e+08</td>\n      <td>-0.170414</td>\n      <td>-0.225534</td>\n      <td>-0.193092</td>\n      <td>-0.174457</td>\n      <td>-0.156854</td>\n      <td>-0.168205</td>\n      <td>-0.158857</td>\n      <td>-0.160739</td>\n      <td>...</td>\n      <td>-0.001518</td>\n      <td>-0.002125</td>\n      <td>0.010562</td>\n      <td>0.014993</td>\n      <td>0.046194</td>\n      <td>0.033749</td>\n      <td>0.044737</td>\n      <td>0.0</td>\n      <td>-0.053296</td>\n      <td>False</td>\n    </tr>\n    <tr>\n      <th>2017-05-09</th>\n      <td>6.025876e+08</td>\n      <td>3.466160e+08</td>\n      <td>0.102359</td>\n      <td>0.051519</td>\n      <td>0.055400</td>\n      <td>0.057535</td>\n      <td>0.040556</td>\n      <td>0.040362</td>\n      <td>0.077619</td>\n      <td>0.075967</td>\n      <td>...</td>\n      <td>0.013212</td>\n      <td>0.035943</td>\n      <td>0.005246</td>\n      <td>0.012727</td>\n      <td>0.008840</td>\n      <td>0.008938</td>\n      <td>-0.001651</td>\n      <td>0.0</td>\n      <td>0.178259</td>\n      <td>True</td>\n    </tr>\n    <tr>\n      <th>2017-02-09</th>\n      <td>7.290717e+08</td>\n      <td>5.016166e+08</td>\n      <td>-0.245244</td>\n      <td>-0.282394</td>\n      <td>-0.260516</td>\n      <td>-0.213842</td>\n      <td>-0.207322</td>\n      <td>-0.198999</td>\n      <td>-0.202260</td>\n      <td>-0.196512</td>\n      <td>...</td>\n      <td>-0.061867</td>\n      <td>-0.020880</td>\n      <td>-0.008507</td>\n      <td>-0.017185</td>\n      <td>0.007991</td>\n      <td>0.023629</td>\n      <td>0.019161</td>\n      <td>0.0</td>\n      <td>-0.023716</td>\n      <td>False</td>\n    </tr>\n    <tr>\n      <th>2016-11-10</th>\n      <td>3.625757e+08</td>\n      <td>3.973589e+08</td>\n      <td>-0.099343</td>\n      <td>-0.085351</td>\n      <td>-0.082994</td>\n      <td>-0.079165</td>\n      <td>-0.071713</td>\n      <td>-0.086026</td>\n      <td>-0.092076</td>\n      <td>-0.084698</td>\n      <td>...</td>\n      <td>0.018888</td>\n      <td>0.014609</td>\n      <td>0.002803</td>\n      <td>-0.002951</td>\n      <td>0.051646</td>\n      <td>0.050022</td>\n      <td>0.032315</td>\n      <td>0.0</td>\n      <td>0.298067</td>\n      <td>True</td>\n    </tr>\n    <tr>\n      <th>2016-08-11</th>\n      <td>3.705988e+08</td>\n      <td>3.257177e+08</td>\n      <td>-0.293627</td>\n      <td>-0.275583</td>\n      <td>-0.272409</td>\n      <td>-0.259377</td>\n      <td>-0.258208</td>\n      <td>-0.240201</td>\n      <td>-0.243383</td>\n      <td>-0.235343</td>\n      <td>...</td>\n      <td>-0.061306</td>\n      <td>-0.058794</td>\n      <td>-0.041373</td>\n      <td>-0.025126</td>\n      <td>-0.016080</td>\n      <td>-0.013568</td>\n      <td>-0.019933</td>\n      <td>0.0</td>\n      <td>0.055946</td>\n      <td>True</td>\n    </tr>\n    <tr>\n      <th>2016-05-12</th>\n      <td>3.372652e+08</td>\n      <td>3.015857e+08</td>\n      <td>-0.225201</td>\n      <td>-0.158534</td>\n      <td>-0.147329</td>\n      <td>-0.117077</td>\n      <td>-0.114836</td>\n      <td>-0.108673</td>\n      <td>-0.106712</td>\n      <td>-0.112595</td>\n      <td>...</td>\n      <td>0.000000</td>\n      <td>-0.022772</td>\n      <td>-0.016868</td>\n      <td>-0.006747</td>\n      <td>-0.008153</td>\n      <td>0.010964</td>\n      <td>0.013776</td>\n      <td>0.0</td>\n      <td>0.152095</td>\n      <td>True</td>\n    </tr>\n    <tr>\n      <th>2016-02-17</th>\n      <td>3.340695e+08</td>\n      <td>4.481091e+08</td>\n      <td>0.121837</td>\n      <td>0.125090</td>\n      <td>0.134852</td>\n      <td>0.117860</td>\n      <td>0.126898</td>\n      <td>0.125452</td>\n      <td>0.134852</td>\n      <td>0.146782</td>\n      <td>...</td>\n      <td>-0.044468</td>\n      <td>-0.088214</td>\n      <td>-0.078452</td>\n      <td>-0.080622</td>\n      <td>-0.085322</td>\n      <td>-0.069776</td>\n      <td>-0.024222</td>\n      <td>0.0</td>\n      <td>0.086045</td>\n      <td>True</td>\n    </tr>\n    <tr>\n      <th>2015-11-05</th>\n      <td>3.493507e+08</td>\n      <td>2.946789e+08</td>\n      <td>-0.147578</td>\n      <td>-0.154765</td>\n      <td>-0.154047</td>\n      <td>-0.159437</td>\n      <td>-0.167088</td>\n      <td>-0.170336</td>\n      <td>-0.200289</td>\n      <td>-0.225189</td>\n      <td>...</td>\n      <td>0.026344</td>\n      <td>0.034645</td>\n      <td>-0.001083</td>\n      <td>0.023818</td>\n      <td>0.035727</td>\n      <td>0.028510</td>\n      <td>0.011548</td>\n      <td>0.0</td>\n      <td>0.138578</td>\n      <td>True</td>\n    </tr>\n    <tr>\n      <th>2015-08-06</th>\n      <td>2.915845e+08</td>\n      <td>2.473383e+08</td>\n      <td>0.013889</td>\n      <td>0.019730</td>\n      <td>0.036279</td>\n      <td>0.036766</td>\n      <td>0.035306</td>\n      <td>0.028850</td>\n      <td>0.028850</td>\n      <td>0.021516</td>\n      <td>...</td>\n      <td>-0.035208</td>\n      <td>-0.023472</td>\n      <td>-0.021027</td>\n      <td>-0.024450</td>\n      <td>-0.007824</td>\n      <td>-0.003912</td>\n      <td>0.006357</td>\n      <td>0.0</td>\n      <td>0.123717</td>\n      <td>True</td>\n    </tr>\n    <tr>\n      <th>2015-05-07</th>\n      <td>2.832539e+08</td>\n      <td>2.450834e+08</td>\n      <td>-0.072048</td>\n      <td>-0.078249</td>\n      <td>-0.012252</td>\n      <td>-0.011809</td>\n      <td>-0.008708</td>\n      <td>-0.020225</td>\n      <td>-0.017567</td>\n      <td>-0.010480</td>\n      <td>...</td>\n      <td>-0.008004</td>\n      <td>-0.015562</td>\n      <td>-0.012894</td>\n      <td>0.011561</td>\n      <td>0.005335</td>\n      <td>-0.020453</td>\n      <td>-0.017341</td>\n      <td>0.0</td>\n      <td>-0.073810</td>\n      <td>False</td>\n    </tr>\n  </tbody>\n</table>\n<p>19 rows × 65 columns</p>\n</div>"
     },
     "execution_count": 25,
     "metadata": {},
     "output_type": "execute_result"
    }
   ],
   "source": [
    "import numpy as np\n",
    "price_data = pd.DataFrame()\n",
    "volume_data = pd.DataFrame()\n",
    "\n",
    "for date in earnings.index:\n",
    "    idx = prices.index.get_loc(date)\n",
    "    \n",
    "    earnings_day_price = prices['Close'].iloc[idx]\n",
    "    price_data[date] = ((prices['Close'].iloc[idx-60:idx+2] - earnings_day_price) / earnings_day_price).reset_index(drop=True)\n",
    "    \n",
    "    volume_data[date] = pd.Series([prices['Volume'].iloc[idx-60:idx].mean(), prices['Volume'].iloc[idx-7:idx].mean()], index=['avg volume 60', 'avg volume 7'])\n",
    "    \n",
    "earnings_data = price_data.set_index(np.arange(60, -2, -1))\n",
    "earnings_data = earnings_data.T\n",
    "volume_data = volume_data.T\n",
    "earnings_data['MONEY'] = earnings_data[-1] >= earnings_data[0] * 1.03\n",
    "#earnings_data\n",
    "volume_data.join(earnings_data)"
   ],
   "metadata": {
    "collapsed": false,
    "ExecuteTime": {
     "end_time": "2025-05-31T07:28:08.045024Z",
     "start_time": "2025-05-31T07:28:08.040988Z"
    }
   },
   "id": "581302562eba5dd"
  },
  {
   "cell_type": "code",
   "execution_count": 138,
   "outputs": [
    {
     "data": {
      "text/plain": "Close    float64\ndtype: object"
     },
     "execution_count": 138,
     "metadata": {},
     "output_type": "execute_result"
    }
   ],
   "source": [],
   "metadata": {
    "collapsed": false,
    "ExecuteTime": {
     "end_time": "2025-05-29T00:10:12.944851Z",
     "start_time": "2025-05-29T00:10:12.938071Z"
    }
   },
   "id": "90a8dcae73544a6"
  },
  {
   "cell_type": "code",
   "execution_count": 91,
   "outputs": [
    {
     "data": {
      "text/plain": "DatetimeIndex(['2015-01-02', '2015-01-05', '2015-01-06', '2015-01-07',\n               '2015-01-08', '2015-01-09', '2015-01-12', '2015-01-13',\n               '2015-01-14', '2015-01-15',\n               ...\n               '2019-12-17', '2019-12-18', '2019-12-19', '2019-12-20',\n               '2019-12-23', '2019-12-24', '2019-12-26', '2019-12-27',\n               '2019-12-30', '2019-12-31'],\n              dtype='datetime64[ns]', name='Date', length=1258, freq=None)"
     },
     "execution_count": 91,
     "metadata": {},
     "output_type": "execute_result"
    }
   ],
   "source": [],
   "metadata": {
    "collapsed": false,
    "ExecuteTime": {
     "end_time": "2025-05-28T23:21:55.885568Z",
     "start_time": "2025-05-28T23:21:55.871894Z"
    }
   },
   "id": "7a2133c05f9c28dc"
  },
  {
   "cell_type": "code",
   "execution_count": null,
   "outputs": [],
   "source": [],
   "metadata": {
    "collapsed": false
   },
   "id": "a1321dce222afdca"
  }
 ],
 "metadata": {
  "kernelspec": {
   "display_name": "Python 3",
   "language": "python",
   "name": "python3"
  },
  "language_info": {
   "codemirror_mode": {
    "name": "ipython",
    "version": 2
   },
   "file_extension": ".py",
   "mimetype": "text/x-python",
   "name": "python",
   "nbconvert_exporter": "python",
   "pygments_lexer": "ipython2",
   "version": "2.7.6"
  }
 },
 "nbformat": 4,
 "nbformat_minor": 5
}
